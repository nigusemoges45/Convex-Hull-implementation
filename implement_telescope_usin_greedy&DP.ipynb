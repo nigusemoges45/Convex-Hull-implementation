{
 "cells": [
  {
   "cell_type": "markdown",
   "id": "12a99117",
   "metadata": {},
   "source": [
    "#  Import Neccessary Libraries\n",
    " * **tracemalloc**:used to Tracks memory allocations of the scheduling algorithms.\n",
    "* **time**: Measures execution time during the execution of the scheduling algorithms."
   ]
  },
  {
   "cell_type": "code",
   "execution_count": 8,
   "id": "f5589dbf",
   "metadata": {},
   "outputs": [],
   "source": [
    "import tracemalloc\n",
    "import time"
   ]
  },
  {
   "cell_type": "markdown",
   "id": "03c10a33",
   "metadata": {},
   "source": [
    "### Telescope Scheduling Using greedy method"
   ]
  },
  {
   "cell_type": "code",
   "execution_count": 9,
   "id": "9daf530b",
   "metadata": {},
   "outputs": [
    {
     "data": {
      "text/plain": [
       "[{'name': 'Galaxy A',\n",
       "  'priority': 5,\n",
       "  'duration': 2,\n",
       "  'visibility_start': 20,\n",
       "  'visibility_end': 24},\n",
       " {'name': 'Nebula C',\n",
       "  'priority': 4,\n",
       "  'duration': 1,\n",
       "  'visibility_start': 19,\n",
       "  'visibility_end': 21},\n",
       " {'name': 'Exoplanet D',\n",
       "  'priority': 2,\n",
       "  'duration': 2,\n",
       "  'visibility_start': 21,\n",
       "  'visibility_end': 23}]"
      ]
     },
     "execution_count": 9,
     "metadata": {},
     "output_type": "execute_result"
    }
   ],
   "source": [
    "# Implementing a simple greedy algorithm for telescope scheduling\n",
    "\n",
    "def telescope_scheduler(tasks, telescope_time):\n",
    "   \n",
    "    # Sort tasks by priority (descending) and visibility window (ascending)\n",
    "    tasks = sorted(tasks, key=lambda x: (-x['priority'], x['visibility_end'] - x['visibility_start']))\n",
    "    \n",
    "    schedule = []\n",
    "    remaining_time = telescope_time\n",
    "\n",
    "    # Select tasks while there is available time\n",
    "    for task in tasks:\n",
    "        if task['duration'] <= remaining_time:\n",
    "            schedule.append(task)\n",
    "            remaining_time -= task['duration']\n",
    "\n",
    "    return schedule\n",
    "\n",
    "\n",
    "# Example tasks with their attributes\n",
    "tasks = [\n",
    "    {\"name\": \"Galaxy A\", \"priority\": 5, \"duration\": 2, \"visibility_start\": 20, \"visibility_end\": 24},\n",
    "    {\"name\": \"Star B\", \"priority\": 3, \"duration\": 3, \"visibility_start\": 18, \"visibility_end\": 22},\n",
    "    {\"name\": \"Nebula C\", \"priority\": 4, \"duration\": 1, \"visibility_start\": 19, \"visibility_end\": 21},\n",
    "    {\"name\": \"Exoplanet D\", \"priority\": 2, \"duration\": 2, \"visibility_start\": 21, \"visibility_end\": 23},\n",
    "    {\"name\": \"Cluster E\", \"priority\": 1, \"duration\": 4, \"visibility_start\": 17, \"visibility_end\": 20}\n",
    "]\n",
    "\n",
    "# Total telescope time available\n",
    "telescope_time = 5\n",
    "\n",
    "# Run the greedy scheduler\n",
    "schedule = telescope_scheduler(tasks, telescope_time)\n",
    "schedule\n"
   ]
  },
  {
   "cell_type": "markdown",
   "id": "82e36fa4",
   "metadata": {},
   "source": [
    "### Telescope scheduling algorithm using dynamic programming"
   ]
  },
  {
   "cell_type": "code",
   "execution_count": 10,
   "id": "dc26f03f",
   "metadata": {},
   "outputs": [
    {
     "data": {
      "text/plain": [
       "(11,\n",
       " [{'name': 'Exoplanet D',\n",
       "   'priority': 2,\n",
       "   'duration': 2,\n",
       "   'visibility_start': 21,\n",
       "   'visibility_end': 23},\n",
       "  {'name': 'Nebula C',\n",
       "   'priority': 4,\n",
       "   'duration': 1,\n",
       "   'visibility_start': 19,\n",
       "   'visibility_end': 21},\n",
       "  {'name': 'Galaxy A',\n",
       "   'priority': 5,\n",
       "   'duration': 2,\n",
       "   'visibility_start': 20,\n",
       "   'visibility_end': 24}])"
      ]
     },
     "execution_count": 10,
     "metadata": {},
     "output_type": "execute_result"
    }
   ],
   "source": [
    "def telescope_scheduler_dp(tasks, telescope_time):\n",
    "   \n",
    "    n = len(tasks)\n",
    "\n",
    "    # DP table: dp[i][w] stores the maximum priority achievable with the first i tasks and w available time\n",
    "    dp = [[0] * (telescope_time + 1) for _ in range(n + 1)]\n",
    "\n",
    "    # Fill the DP table\n",
    "    for i in range(1, n + 1):\n",
    "        for w in range(telescope_time + 1):\n",
    "            if tasks[i - 1]['duration'] <= w:\n",
    "                # Include the current task or skip it\n",
    "                dp[i][w] = max(dp[i - 1][w], dp[i - 1][w - tasks[i - 1]['duration']] + tasks[i - 1]['priority'])\n",
    "            else:\n",
    "                # Skip the current task\n",
    "                dp[i][w] = dp[i - 1][w]\n",
    "\n",
    "    # Backtrack to find the selected tasks\n",
    "    selected_tasks = []\n",
    "    w = telescope_time\n",
    "    for i in range(n, 0, -1):\n",
    "        if dp[i][w] != dp[i - 1][w]:\n",
    "            selected_tasks.append(tasks[i - 1])\n",
    "            w -= tasks[i - 1]['duration']\n",
    "\n",
    "    # Return the maximum priority and the selected tasks\n",
    "    max_priority = dp[n][telescope_time]\n",
    "    return max_priority, selected_tasks\n",
    "\n",
    "\n",
    "# Example tasks\n",
    "tasks = [\n",
    "    {\"name\": \"Galaxy A\", \"priority\": 5, \"duration\": 2, \"visibility_start\": 20, \"visibility_end\": 24},\n",
    "    {\"name\": \"Star B\", \"priority\": 3, \"duration\": 3, \"visibility_start\": 18, \"visibility_end\": 22},\n",
    "    {\"name\": \"Nebula C\", \"priority\": 4, \"duration\": 1, \"visibility_start\": 19, \"visibility_end\": 21},\n",
    "    {\"name\": \"Exoplanet D\", \"priority\": 2, \"duration\": 2, \"visibility_start\": 21, \"visibility_end\": 23},\n",
    "    {\"name\": \"Cluster E\", \"priority\": 1, \"duration\": 4, \"visibility_start\": 17, \"visibility_end\": 20}\n",
    "]\n",
    "\n",
    "# Total telescope time available\n",
    "telescope_time = 5\n",
    "\n",
    "# Run the DP scheduler\n",
    "max_priority, selected_tasks = telescope_scheduler_dp(tasks, telescope_time)\n",
    "max_priority, selected_tasks\n"
   ]
  },
  {
   "cell_type": "markdown",
   "id": "31e5008c",
   "metadata": {},
   "source": [
    "#### running time and memory consumption of greedy method and dynamic programming"
   ]
  },
  {
   "cell_type": "code",
   "execution_count": 11,
   "id": "6b8e880b",
   "metadata": {},
   "outputs": [
    {
     "data": {
      "text/plain": [
       "{'Greedy': {'Time (seconds)': 0.0006744861602783203,\n",
       "  'Current Memory (bytes)': 946,\n",
       "  'Peak Memory (bytes)': 11960},\n",
       " 'Dynamic Programming': {'Time (seconds)': 0.0,\n",
       "  'Current Memory (bytes)': 946,\n",
       "  'Peak Memory (bytes)': 11993}}"
      ]
     },
     "execution_count": 11,
     "metadata": {},
     "output_type": "execute_result"
    }
   ],
   "source": [
    "# Measure time and memory for the greedy algorithm\n",
    "tracemalloc.start()\n",
    "start_greedy = time.time()\n",
    "greedy_schedule = telescope_scheduler(tasks, telescope_time)\n",
    "end_greedy = time.time()\n",
    "current_greedy, peak_greedy = tracemalloc.get_traced_memory()\n",
    "tracemalloc.stop()\n",
    "\n",
    "# Measure time and memory for the dynamic programming algorithm\n",
    "tracemalloc.start()\n",
    "start_dp = time.time()\n",
    "dp_max_priority, dp_schedule = telescope_scheduler_dp(tasks, telescope_time)\n",
    "end_dp = time.time()\n",
    "current_dp, peak_dp = tracemalloc.get_traced_memory()\n",
    "tracemalloc.stop()\n",
    "\n",
    "# Results\n",
    "{\n",
    "    \"Greedy\": {\n",
    "        \"Time (seconds)\": end_greedy - start_greedy,\n",
    "        \"Current Memory (bytes)\": current_greedy,\n",
    "        \"Peak Memory (bytes)\": peak_greedy,\n",
    "    },\n",
    "    \"Dynamic Programming\": {\n",
    "        \"Time (seconds)\": end_dp - start_dp,\n",
    "        \"Current Memory (bytes)\": current_dp,\n",
    "        \"Peak Memory (bytes)\": peak_dp,\n",
    "    }\n",
    "}\n"
   ]
  },
  {
   "cell_type": "markdown",
   "id": "7d6c8daf",
   "metadata": {},
   "source": [
    "# Conclusions\n",
    "\n",
    "- **Greedy Algorithm:**  \n",
    "  Focuses on scheduling tasks as they appear feasible, potentially missing better schedules (e.g., it may schedule lower-priority tasks early and exclude later, higher-priority ones).\n",
    "\n",
    "- **Dynamic Programming Algorithm:**  \n",
    "  Evaluates all combinations to ensure the maximum possible tasks are scheduled. It may take longer to execute but will always produce the best schedule according to the defined criteria."
   ]
  }
 ],
 "metadata": {
  "kernelspec": {
   "display_name": "Python 3 (ipykernel)",
   "language": "python",
   "name": "python3"
  },
  "language_info": {
   "codemirror_mode": {
    "name": "ipython",
    "version": 3
   },
   "file_extension": ".py",
   "mimetype": "text/x-python",
   "name": "python",
   "nbconvert_exporter": "python",
   "pygments_lexer": "ipython3",
   "version": "3.11.7"
  }
 },
 "nbformat": 4,
 "nbformat_minor": 5
}
